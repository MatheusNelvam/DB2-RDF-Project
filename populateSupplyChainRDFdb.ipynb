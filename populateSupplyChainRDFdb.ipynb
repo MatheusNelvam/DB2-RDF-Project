{
 "cells": [
  {
   "cell_type": "markdown",
   "metadata": {},
   "source": [
    "## Populate an RDF database\n",
    "\n",
    "This notebook reports the main steps to download CSV files, process them and create an RDF dataset from them accordingly to an ontology. \n",
    "\n",
    "To measure execution time in Jupyter notebooks: <code>pip install ipython-autotime</code>"
   ]
  },
  {
   "cell_type": "code",
   "execution_count": 132,
   "metadata": {},
   "outputs": [],
   "source": [
    "# required libraries\n",
    "import pandas as pd\n",
    "import os\n",
    "from pathlib import Path"
   ]
  },
  {
   "cell_type": "code",
   "execution_count": 133,
   "metadata": {},
   "outputs": [],
   "source": [
    "# parameters and URLs\n",
    "path = str(Path(os.path.abspath(os.getcwd())).parent.absolute())\n",
    "\n",
    "supplyChainUrl = path + '\\\\HP\\\\DB2-RDF-Project\\\\SCMS_Delivery_History_Dataset(ORIGINAL).csv'\n",
    "\n",
    "# country codes\n",
    "# countriesURL = path + '/data/countryCodes/wikipedia-iso-country-codes.csv'\n",
    "\n",
    "# saving folder\n",
    "savePath =  path + '\\\\HP\\\\Desktop\\\\'"
   ]
  },
  {
   "cell_type": "markdown",
   "metadata": {},
   "source": [
    "## Project"
   ]
  },
  {
   "cell_type": "code",
   "execution_count": 134,
   "metadata": {},
   "outputs": [
    {
     "data": {
      "text/plain": [
       "Project Code                     object\n",
       "PQ #                             object\n",
       "PO / SO #                        object\n",
       "ASN/DN #                         object\n",
       "Country                          object\n",
       "Managed By                       object\n",
       "Fulfill Via                      object\n",
       "Vendor INCO Term                 object\n",
       "Shipment Mode                    object\n",
       "PQ First Sent to Client Date     object\n",
       "PO Sent to Vendor Date           object\n",
       "Scheduled Delivery Date          object\n",
       "Delivered to Client Date         object\n",
       "Delivery Recorded Date           object\n",
       "Product Group                    object\n",
       "Sub Classification               object\n",
       "Vendor                           object\n",
       "Item Description                 object\n",
       "Molecule/Test Type               object\n",
       "Brand                            object\n",
       "Dosage                           object\n",
       "Dosage Form                      object\n",
       "Unit of Measure (Per Pack)        int64\n",
       "Line Item Quantity                int64\n",
       "Line Item Value                 float64\n",
       "Pack Price                      float64\n",
       "Unit Price                      float64\n",
       "Manufacturing Site               object\n",
       "First Line Designation           object\n",
       "Weight (Kilograms)               object\n",
       "Freight Cost (USD)               object\n",
       "Line Item Insurance (USD)        object\n",
       "dtype: object"
      ]
     },
     "execution_count": 134,
     "metadata": {},
     "output_type": "execute_result"
    }
   ],
   "source": [
    "# Load the CSV files in memory\n",
    "# we need to convert NaN values to something else otherwise NA strings are converted to NaN\n",
    "supplyChain = pd.read_csv(supplyChainUrl, sep=',', index_col='ID', keep_default_na=False, na_values=['_'])\n",
    "\n",
    "supplyChain.dtypes"
   ]
  },
  {
   "cell_type": "code",
   "execution_count": 135,
   "metadata": {},
   "outputs": [],
   "source": [
    "#load the country codes\n",
    "# we need to convert NaN values to something else otherwise NA strings are converted to NaN -> problem with Namibia\n",
    "# countries = pd.read_csv(countriesURL, sep=',', index_col='Name', keep_default_na=False, na_values=['_'])"
   ]
  },
  {
   "cell_type": "code",
   "execution_count": 136,
   "metadata": {},
   "outputs": [
    {
     "name": "stdout",
     "output_type": "stream",
     "text": [
      "<class 'pandas.core.frame.DataFrame'>\n",
      "Int64Index: 10324 entries, 1 to 86823\n",
      "Data columns (total 32 columns):\n",
      " #   Column                        Non-Null Count  Dtype  \n",
      "---  ------                        --------------  -----  \n",
      " 0   Project Code                  10324 non-null  object \n",
      " 1   PQ #                          10324 non-null  object \n",
      " 2   PO / SO #                     10324 non-null  object \n",
      " 3   ASN/DN #                      10324 non-null  object \n",
      " 4   Country                       10324 non-null  object \n",
      " 5   Managed By                    10324 non-null  object \n",
      " 6   Fulfill Via                   10324 non-null  object \n",
      " 7   Vendor INCO Term              10324 non-null  object \n",
      " 8   Shipment Mode                 10324 non-null  object \n",
      " 9   PQ First Sent to Client Date  10324 non-null  object \n",
      " 10  PO Sent to Vendor Date        10324 non-null  object \n",
      " 11  Scheduled Delivery Date       10324 non-null  object \n",
      " 12  Delivered to Client Date      10324 non-null  object \n",
      " 13  Delivery Recorded Date        10324 non-null  object \n",
      " 14  Product Group                 10324 non-null  object \n",
      " 15  Sub Classification            10324 non-null  object \n",
      " 16  Vendor                        10324 non-null  object \n",
      " 17  Item Description              10324 non-null  object \n",
      " 18  Molecule/Test Type            10324 non-null  object \n",
      " 19  Brand                         10324 non-null  object \n",
      " 20  Dosage                        10324 non-null  object \n",
      " 21  Dosage Form                   10324 non-null  object \n",
      " 22  Unit of Measure (Per Pack)    10324 non-null  int64  \n",
      " 23  Line Item Quantity            10324 non-null  int64  \n",
      " 24  Line Item Value               10324 non-null  float64\n",
      " 25  Pack Price                    10324 non-null  float64\n",
      " 26  Unit Price                    10324 non-null  float64\n",
      " 27  Manufacturing Site            10324 non-null  object \n",
      " 28  First Line Designation        10324 non-null  object \n",
      " 29  Weight (Kilograms)            10324 non-null  object \n",
      " 30  Freight Cost (USD)            10324 non-null  object \n",
      " 31  Line Item Insurance (USD)     10324 non-null  object \n",
      "dtypes: float64(3), int64(2), object(27)\n",
      "memory usage: 2.6+ MB\n"
     ]
    }
   ],
   "source": [
    "supplyChain.info()"
   ]
  },
  {
   "cell_type": "markdown",
   "metadata": {},
   "source": [
    "We need to install <code>RDFLib</code>\n",
    "\n",
    "<code>pip3 install rdflib </code> [Documentation](https://rdflib.readthedocs.io/en/stable/gettingstarted.html)"
   ]
  },
  {
   "cell_type": "code",
   "execution_count": 228,
   "metadata": {},
   "outputs": [
    {
     "name": "stdout",
     "output_type": "stream",
     "text": [
      "Requirement already satisfied: rdflib in c:\\users\\hp\\anaconda3\\lib\\site-packages (7.0.0)\n",
      "Requirement already satisfied: isodate<0.7.0,>=0.6.0 in c:\\users\\hp\\anaconda3\\lib\\site-packages (from rdflib) (0.6.1)\n",
      "Requirement already satisfied: pyparsing<4,>=2.1.0 in c:\\users\\hp\\anaconda3\\lib\\site-packages (from rdflib) (3.0.9)\n",
      "Requirement already satisfied: six in c:\\users\\hp\\anaconda3\\lib\\site-packages (from isodate<0.7.0,>=0.6.0->rdflib) (1.16.0)\n"
     ]
    }
   ],
   "source": [
    "import sys\n",
    "!{sys.executable} -m pip install rdflib\n",
    "# Load the required libraries\n",
    "from rdflib import Graph, Literal, RDF, URIRef, Namespace\n",
    "# rdflib knows about some namespaces, like FOAF\n",
    "from rdflib.namespace import FOAF, XSD\n",
    "from urllib.parse import quote\n",
    "\n"
   ]
  },
  {
   "cell_type": "code",
   "execution_count": 186,
   "metadata": {},
   "outputs": [],
   "source": [
    "# Construct the country and the supplyChain ontology namespaces not known by RDFlib\n",
    "# CNS = Namespace(\"http://eulersharp.sourceforge.net/2003/03swap/countries#\")\n",
    "SCO = Namespace(\"http://www.semanticweb.org/MONC/ontologies/2023/11/supplyChain#\")\n",
    "\n",
    "#create the graph\n",
    "g = Graph()\n",
    "\n",
    "# Bind the namespaces to a prefix for more readable output\n",
    "# g.bind(\"foaf\", FOAF)\n",
    "# g.bind(\"countries\", CNS)\n",
    "g.bind(\"xsd\", XSD)\n",
    "g.bind(\"sco\", SCO)\n"
   ]
  },
  {
   "cell_type": "code",
   "execution_count": 187,
   "metadata": {},
   "outputs": [],
   "source": [
    "# CHECK DATE \n",
    "import datetime\n"
   ]
  },
  {
   "cell_type": "code",
   "execution_count": 188,
   "metadata": {},
   "outputs": [
    {
     "name": "stdout",
     "output_type": "stream",
     "text": [
      "Wall time: 992 ms\n"
     ]
    }
   ],
   "source": [
    "%%time \n",
    "#measure execution time\n",
    "\n",
    "#iterate over the supplyChain dataframe\n",
    "for index, row in supplyChain.iterrows():\n",
    "    # Create the node to add to the Graph\n",
    "    # the node has the namespace + the supplyChain id as URI\n",
    "    idP = \"project\"+str(index)\n",
    "    Project = URIRef(SCO[idP])\n",
    "    \n",
    "    # Add triples using store's add() method\n",
    "    g.add((Project, RDF.type, SCO.project))\n",
    "    g.add((Project, SCO['ManagedBy'], Literal(row['Managed By'], datatype=XSD.string)))\n",
    "    g.add((Project, SCO['ProjectCode'], Literal(row['Project Code'], datatype=XSD.string)))\n",
    "    \n",
    "g.bind(\"xsd\", XSD)\n",
    "g.bind(\"sco\", SCO)"
   ]
  },
  {
   "cell_type": "code",
   "execution_count": 189,
   "metadata": {},
   "outputs": [
    {
     "name": "stdout",
     "output_type": "stream",
     "text": [
      "--- saving serialization ---\n",
      "Wall time: 1.38 s\n"
     ]
    }
   ],
   "source": [
    "%%time\n",
    "# print all the data in the Turtle format\n",
    "print(\"--- saving serialization ---\")\n",
    "with open(savePath + 'projects.ttl', 'w', encoding=\"utf-8\") as file:\n",
    "    file.write(g.serialize(format='turtle'))\n"
   ]
  },
  {
   "cell_type": "markdown",
   "metadata": {},
   "source": [
    "# Countries"
   ]
  },
  {
   "cell_type": "code",
   "execution_count": 236,
   "metadata": {},
   "outputs": [],
   "source": [
    "#create a new graph\n",
    "g = Graph()"
   ]
  },
  {
   "cell_type": "code",
   "execution_count": 237,
   "metadata": {},
   "outputs": [
    {
     "name": "stdout",
     "output_type": "stream",
     "text": [
      "Wall time: 767 ms\n"
     ]
    }
   ],
   "source": [
    "%%time \n",
    "#measure execution time\n",
    "\n",
    "#iterate over the supplyChain dataframe\n",
    "for index, row in supplyChain.iterrows():\n",
    "    # Create the node to add to the Graph\n",
    "    # the node has the namespace + the supplyChain id as URI\n",
    "    idC = \"country\"+str(index)\n",
    "    \n",
    "    # Using the quote function to escape the special characters\n",
    "    Country = URIRef(SCO[quote(row['Country'])])\n",
    "    \n",
    "    # Add triples using store's add() method.\n",
    "    g.add((Country, RDF.type, SCO.country))\n",
    "    g.add((Country, SCO['Country'], Literal(row['Country'], datatype=XSD.string)))\n",
    "    \n",
    "g.bind(\"xsd\", XSD)\n",
    "g.bind(\"sco\", SCO)"
   ]
  },
  {
   "cell_type": "code",
   "execution_count": 238,
   "metadata": {},
   "outputs": [
    {
     "name": "stdout",
     "output_type": "stream",
     "text": [
      "--- saving serialization ---\n",
      "Wall time: 7.39 ms\n"
     ]
    }
   ],
   "source": [
    "%%time\n",
    "# print all the data in the Turtle format\n",
    "print(\"--- saving serialization ---\")\n",
    "with open(savePath + 'countries.ttl', 'w', encoding=\"utf-8\") as file:\n",
    "    file.write(g.serialize(format='turtle'))\n"
   ]
  },
  {
   "cell_type": "markdown",
   "metadata": {},
   "source": [
    "# Product"
   ]
  },
  {
   "cell_type": "code",
   "execution_count": 223,
   "metadata": {},
   "outputs": [],
   "source": [
    "#create a new graph\n",
    "g = Graph()"
   ]
  },
  {
   "cell_type": "code",
   "execution_count": 224,
   "metadata": {},
   "outputs": [
    {
     "name": "stdout",
     "output_type": "stream",
     "text": [
      "Wall time: 5.74 s\n"
     ]
    }
   ],
   "source": [
    "%%time \n",
    "#measure execution time\n",
    "\n",
    "#iterate over the supplyChain dataframe\n",
    "for index, row in supplyChain.iterrows():\n",
    "    \n",
    "    # Create the node to add to the Graph\n",
    "    # the node has the namespace + the supplyChain id as URI\n",
    "    idPr = \"product\"+str(index)\n",
    "    Product = URIRef(SCO[idPr])\n",
    "    \n",
    "    # Add triples using store's add() method.\n",
    "    ProductGroup = URIRef(SCO[row['Product Group']])\n",
    "    g.add((Product, RDF.type, ProductGroup))  \n",
    "        \n",
    "    g.add((Product, SCO['Brand'], Literal(row['Brand'], datatype=XSD.string)))\n",
    "    g.add((Product, SCO['Dosage'], Literal(row['Dosage'], datatype=XSD.string)))\n",
    "    g.add((Product, SCO['DosageForm'], Literal(row['Dosage Form'], datatype=XSD.string)))\n",
    "    g.add((Product, SCO['FirstLineDesignation'], Literal(row['First Line Designation'], datatype=XSD.string)))\n",
    "    \n",
    "    # Try to cast 'Freight Cost (USD)' to XSD.float\n",
    "    try:\n",
    "        freight_literal = Literal(float(row['Freight Cost (USD)']), datatype=XSD.float)\n",
    "    except ValueError:\n",
    "    # Handle non-numerical values, set it to None, or choose an appropriate default value\n",
    "        freight_literal = None\n",
    "        \n",
    "    # Add the triple to the graph if the casting was successful\n",
    "    if freight_literal is not None:\n",
    "        g.add((Product, SCO['FreightCost'], freight_literal))\n",
    "    \n",
    "    g.add((Product, SCO['ItemDescription'], Literal(row['Item Description'], datatype=XSD.string)))\n",
    "    g.add((Product, SCO['LineItemInsurance'], Literal(row['Line Item Insurance (USD)'], datatype=XSD.string)))\n",
    "    g.add((Product, SCO['LineItemQuantity'], Literal(row['Line Item Quantity'], datatype=XSD.integer)))\n",
    "    g.add((Product, SCO['LineItemValue'], Literal(row['Line Item Value'], datatype=XSD.float)))\n",
    "    g.add((Product, SCO['ManufacturingSite'], Literal(row['Manufacturing Site'], datatype=XSD.string)))\n",
    "    g.add((Product, SCO['MoleculeTestType'], Literal(row['Molecule/Test Type'], datatype=XSD.string)))\n",
    "    g.add((Product, SCO['SubClassification'], Literal(row['Sub Classification'], datatype=XSD.string)))\n",
    "    g.add((Product, SCO['UnitofMeasure'], Literal(row['Unit of Measure (Per Pack)'], datatype=XSD.integer)))\n",
    "    g.add((Product, SCO['UnitPrice'], Literal(row['Unit Price'], datatype=XSD.float)))\n",
    "    \n",
    "    # Try to cast 'Weight (Kilograms)' to XSD.float\n",
    "    try:\n",
    "        weight_literal = Literal(float(row['Weight (Kilograms)']), datatype=XSD.float)\n",
    "    except ValueError:\n",
    "    # Handle non-numerical values, set it to None, or choose an appropriate default value\n",
    "        weight_literal = None\n",
    "        \n",
    "    # Add the triple to the graph if the casting was successful\n",
    "    if weight_literal is not None:\n",
    "        g.add((Product, SCO['Weight'], weight_literal))\n",
    "        \n",
    "g.bind(\"xsd\", XSD)\n",
    "g.bind(\"sco\", SCO)"
   ]
  },
  {
   "cell_type": "code",
   "execution_count": 225,
   "metadata": {},
   "outputs": [
    {
     "name": "stdout",
     "output_type": "stream",
     "text": [
      "--- saving serialization ---\n",
      "Wall time: 6.2 s\n"
     ]
    }
   ],
   "source": [
    "%%time\n",
    "# print all the data in the Turtle format\n",
    "print(\"--- saving serialization ---\")\n",
    "with open(savePath + 'products.ttl', 'w', encoding=\"utf-8\") as file:\n",
    "    file.write(g.serialize(format='turtle'))\n"
   ]
  },
  {
   "cell_type": "markdown",
   "metadata": {},
   "source": [
    "# Vendor"
   ]
  },
  {
   "cell_type": "code",
   "execution_count": 196,
   "metadata": {},
   "outputs": [],
   "source": [
    "#create a new graph\n",
    "g = Graph()"
   ]
  },
  {
   "cell_type": "code",
   "execution_count": 197,
   "metadata": {},
   "outputs": [
    {
     "name": "stdout",
     "output_type": "stream",
     "text": [
      "Wall time: 985 ms\n"
     ]
    }
   ],
   "source": [
    "%%time \n",
    "#measure execution time\n",
    "\n",
    "#iterate over the supplyChain dataframe\n",
    "for index, row in supplyChain.iterrows():\n",
    "    idV = \"vendor\"+str(index)\n",
    "    Vendor = URIRef(SCO[idV])\n",
    "    g.add((Vendor, RDF.type, SCO.vendor))\n",
    "    g.add((Vendor, SCO['Vendor'], Literal(row['Vendor'], datatype=XSD.string)))\n",
    "    g.add((Vendor, SCO['VendorINCOTerm'], Literal(row['Vendor INCO Term'], datatype=XSD.string)))\n",
    "    \n",
    "g.bind(\"xsd\", XSD)\n",
    "g.bind(\"sco\", SCO)"
   ]
  },
  {
   "cell_type": "code",
   "execution_count": 198,
   "metadata": {},
   "outputs": [
    {
     "name": "stdout",
     "output_type": "stream",
     "text": [
      "--- saving serialization ---\n",
      "Wall time: 2.63 s\n"
     ]
    }
   ],
   "source": [
    "%%time\n",
    "# print all the data in the Turtle format\n",
    "print(\"--- saving serialization ---\")\n",
    "with open(savePath + 'vendors.ttl', 'w', encoding=\"utf-8\") as file:\n",
    "    file.write(g.serialize(format='turtle'))\n"
   ]
  },
  {
   "cell_type": "markdown",
   "metadata": {},
   "source": [
    "# PQ"
   ]
  },
  {
   "cell_type": "code",
   "execution_count": 199,
   "metadata": {},
   "outputs": [],
   "source": [
    "#create a new graph\n",
    "g = Graph()"
   ]
  },
  {
   "cell_type": "code",
   "execution_count": 200,
   "metadata": {},
   "outputs": [
    {
     "name": "stdout",
     "output_type": "stream",
     "text": [
      "Wall time: 2.59 s\n"
     ]
    }
   ],
   "source": [
    "%%time \n",
    "#measure execution time\n",
    "\n",
    "#iterate over the supplyChain dataframe\n",
    "for index, row in supplyChain.iterrows():\n",
    "    idPQ = \"pq\"+str(index)\n",
    "    PQ = URIRef(SCO[idPQ])\n",
    "    g.add((PQ, RDF.type, SCO.PQSupplyChain))\n",
    "    g.add((PQ, SCO['ASN/DNNumber'], Literal(row['ASN/DN #'], datatype=XSD.string)))\n",
    "    g.add((PQ, SCO['PO/SONumber'], Literal(row['PO / SO #'], datatype=XSD.string)))\n",
    "    g.add((PQ, SCO['POSentToVendorDate'], Literal(row['PO Sent to Vendor Date'], datatype=XSD.string)))\n",
    "    g.add((PQ, SCO['PQFirstSenttoClientDate'], Literal(row['PQ First Sent to Client Date'], datatype=XSD.string)))\n",
    "    g.add((PQ, SCO['PqNumber'], Literal(row['PQ #'], datatype=XSD.string)))\n",
    "    #try:\n",
    "    #    datetime.datetime.strptime(str(row['PO Sent to Vendor Date']), '%Y-%m-%d')\n",
    "    #    g.add((Movie, MO['POSentToVendorDate'], Literal(row['date_published'], datatype=XSD.date)))\n",
    "    #except ValueError:\n",
    "    #    if (len(row['date_published'])==4):\n",
    "    #        g.add((Movie, MO['releaseDate'], Literal(row['date_published']+\"-01-01\", datatype=XSD.date)))\n",
    "    \n",
    "g.bind(\"xsd\", XSD)\n",
    "g.bind(\"sco\", SCO)"
   ]
  },
  {
   "cell_type": "code",
   "execution_count": 201,
   "metadata": {},
   "outputs": [
    {
     "name": "stdout",
     "output_type": "stream",
     "text": [
      "--- saving serialization ---\n",
      "Wall time: 2.59 s\n"
     ]
    }
   ],
   "source": [
    "%%time\n",
    "# print all the data in the Turtle format\n",
    "print(\"--- saving serialization ---\")\n",
    "with open(savePath + 'pq.ttl', 'w', encoding=\"utf-8\") as file:\n",
    "    file.write(g.serialize(format='turtle'))\n"
   ]
  },
  {
   "cell_type": "markdown",
   "metadata": {},
   "source": [
    "# Shipment"
   ]
  },
  {
   "cell_type": "code",
   "execution_count": 202,
   "metadata": {},
   "outputs": [],
   "source": [
    "#create a new graph\n",
    "g = Graph()"
   ]
  },
  {
   "cell_type": "code",
   "execution_count": 203,
   "metadata": {},
   "outputs": [
    {
     "name": "stdout",
     "output_type": "stream",
     "text": [
      "Wall time: 1.8 s\n"
     ]
    }
   ],
   "source": [
    "%%time \n",
    "#measure execution time\n",
    "\n",
    "#iterate over the supplyChain dataframe\n",
    "for index, row in supplyChain.iterrows():\n",
    "    idS = \"shipment\"+str(index)\n",
    "    Shipment = URIRef(SCO[idS])\n",
    "    g.add((Shipment, RDF.type, SCO.shipment))\n",
    "    g.add((Shipment, SCO['DeliveredToClientDate'], Literal(row['Delivered to Client Date'], datatype=XSD.string)))\n",
    "    g.add((Shipment, SCO['DeliveryRecordedDate'], Literal(row['Delivery Recorded Date'], datatype=XSD.string)))\n",
    "    g.add((Shipment, SCO['FulfillVia'], Literal(row['Fulfill Via'], datatype=XSD.string)))\n",
    "    g.add((Shipment, SCO['ScheduledDeliveryDate'], Literal(row['Scheduled Delivery Date'], datatype=XSD.string)))\n",
    "    g.add((Shipment, SCO['ShipmentMode'], Literal(row['Shipment Mode'], datatype=XSD.string)))\n",
    "    \n",
    "g.bind(\"xsd\", XSD)\n",
    "g.bind(\"sco\", SCO)"
   ]
  },
  {
   "cell_type": "code",
   "execution_count": 204,
   "metadata": {},
   "outputs": [
    {
     "name": "stdout",
     "output_type": "stream",
     "text": [
      "--- saving serialization ---\n",
      "Wall time: 3.52 s\n"
     ]
    }
   ],
   "source": [
    "%%time\n",
    "# print all the data in the Turtle format\n",
    "print(\"--- saving serialization ---\")\n",
    "with open(savePath + 'shipment.ttl', 'w', encoding=\"utf-8\") as file:\n",
    "    file.write(g.serialize(format='turtle'))\n"
   ]
  },
  {
   "cell_type": "markdown",
   "metadata": {},
   "source": [
    "# Project-Country Join"
   ]
  },
  {
   "cell_type": "code",
   "execution_count": 205,
   "metadata": {},
   "outputs": [],
   "source": [
    "#create a new graph\n",
    "g = Graph()"
   ]
  },
  {
   "cell_type": "code",
   "execution_count": 206,
   "metadata": {},
   "outputs": [
    {
     "name": "stdout",
     "output_type": "stream",
     "text": [
      "Wall time: 402 ms\n"
     ]
    }
   ],
   "source": [
    "%%time \n",
    "#measure execution time\n",
    "\n",
    "#iterate over the supplyChain dataframe\n",
    "for index, row in supplyChain.iterrows():\n",
    "    idPrj = \"project\"+str(index)\n",
    "    idC = \"country\"+str(index)\n",
    "    g.add((URIRef(SCO[idPrj]), SCO['hasCountry'], URIRef(SCO[idC])))\n",
    "    \n",
    "g.bind(\"xsd\", XSD)\n",
    "g.bind(\"sco\", SCO)"
   ]
  },
  {
   "cell_type": "code",
   "execution_count": 207,
   "metadata": {},
   "outputs": [
    {
     "name": "stdout",
     "output_type": "stream",
     "text": [
      "--- saving serialization ---\n",
      "Wall time: 665 ms\n"
     ]
    }
   ],
   "source": [
    "%%time\n",
    "# print all the data in the Turtle format\n",
    "print(\"--- saving serialization ---\")\n",
    "with open(savePath + 'proj-cnt.ttl', 'w', encoding=\"utf-8\") as file:\n",
    "    file.write(g.serialize(format='turtle'))\n"
   ]
  },
  {
   "cell_type": "markdown",
   "metadata": {},
   "source": [
    "# Project-Product Join"
   ]
  },
  {
   "cell_type": "code",
   "execution_count": 208,
   "metadata": {},
   "outputs": [],
   "source": [
    "#create a new graph\n",
    "g = Graph()"
   ]
  },
  {
   "cell_type": "code",
   "execution_count": 209,
   "metadata": {},
   "outputs": [
    {
     "name": "stdout",
     "output_type": "stream",
     "text": [
      "Wall time: 408 ms\n"
     ]
    }
   ],
   "source": [
    "%%time \n",
    "#measure execution time\n",
    "\n",
    "#iterate over the supplyChain dataframe\n",
    "for index, row in supplyChain.iterrows():\n",
    "    idPrj = \"project\"+str(index)\n",
    "    idPrd = \"product\"+str(index)\n",
    "    g.add((URIRef(SCO[idPrj]), SCO['hasProduct'], URIRef(SCO[idPrd])))\n",
    "    \n",
    "g.bind(\"xsd\", XSD)\n",
    "g.bind(\"sco\", SCO)"
   ]
  },
  {
   "cell_type": "code",
   "execution_count": 210,
   "metadata": {},
   "outputs": [
    {
     "name": "stdout",
     "output_type": "stream",
     "text": [
      "--- saving serialization ---\n",
      "Wall time: 667 ms\n"
     ]
    }
   ],
   "source": [
    "%%time\n",
    "# print all the data in the Turtle format\n",
    "print(\"--- saving serialization ---\")\n",
    "with open(savePath + 'proj-prod.ttl', 'w', encoding=\"utf-8\") as file:\n",
    "    file.write(g.serialize(format='turtle'))\n"
   ]
  },
  {
   "cell_type": "markdown",
   "metadata": {},
   "source": [
    "# Project-Vendor Join"
   ]
  },
  {
   "cell_type": "code",
   "execution_count": 211,
   "metadata": {},
   "outputs": [],
   "source": [
    "#create a new graph\n",
    "g = Graph()"
   ]
  },
  {
   "cell_type": "code",
   "execution_count": 212,
   "metadata": {},
   "outputs": [
    {
     "name": "stdout",
     "output_type": "stream",
     "text": [
      "Wall time: 408 ms\n"
     ]
    }
   ],
   "source": [
    "%%time \n",
    "#measure execution time\n",
    "\n",
    "#iterate over the supplyChain dataframe\n",
    "for index, row in supplyChain.iterrows():\n",
    "    idPrj = \"project\"+str(index)\n",
    "    idV = \"vendor\"+str(index)\n",
    "    g.add((URIRef(SCO[idPrj]), SCO['hasVendor'], URIRef(SCO[idV])))\n",
    "    \n",
    "g.bind(\"xsd\", XSD)\n",
    "g.bind(\"sco\", SCO)"
   ]
  },
  {
   "cell_type": "code",
   "execution_count": 213,
   "metadata": {},
   "outputs": [
    {
     "name": "stdout",
     "output_type": "stream",
     "text": [
      "--- saving serialization ---\n",
      "Wall time: 1.64 s\n"
     ]
    }
   ],
   "source": [
    "%%time\n",
    "# print all the data in the Turtle format\n",
    "print(\"--- saving serialization ---\")\n",
    "with open(savePath + 'proj-ven.ttl', 'w', encoding=\"utf-8\") as file:\n",
    "    file.write(g.serialize(format='turtle'))\n"
   ]
  },
  {
   "cell_type": "markdown",
   "metadata": {},
   "source": [
    "# Project-PQ Join"
   ]
  },
  {
   "cell_type": "code",
   "execution_count": 214,
   "metadata": {},
   "outputs": [],
   "source": [
    "#create a new graph\n",
    "g = Graph()"
   ]
  },
  {
   "cell_type": "code",
   "execution_count": 215,
   "metadata": {},
   "outputs": [
    {
     "name": "stdout",
     "output_type": "stream",
     "text": [
      "Wall time: 418 ms\n"
     ]
    }
   ],
   "source": [
    "%%time \n",
    "#measure execution time\n",
    "\n",
    "#iterate over the supplyChain dataframe\n",
    "for index, row in supplyChain.iterrows():\n",
    "    idPrj = \"project\"+str(index)\n",
    "    idPq = \"pq\"+str(index)\n",
    "    g.add((URIRef(SCO[idPrj]), SCO['hasPQ'], URIRef(SCO[idPq])))\n",
    "    \n",
    "g.bind(\"xsd\", XSD)\n",
    "g.bind(\"sco\", SCO)"
   ]
  },
  {
   "cell_type": "code",
   "execution_count": 216,
   "metadata": {},
   "outputs": [
    {
     "name": "stdout",
     "output_type": "stream",
     "text": [
      "--- saving serialization ---\n",
      "Wall time: 682 ms\n"
     ]
    }
   ],
   "source": [
    "%%time\n",
    "# print all the data in the Turtle format\n",
    "print(\"--- saving serialization ---\")\n",
    "with open(savePath + 'proj-pq.ttl', 'w', encoding=\"utf-8\") as file:\n",
    "    file.write(g.serialize(format='turtle'))\n"
   ]
  },
  {
   "cell_type": "markdown",
   "metadata": {},
   "source": [
    "# Project-Shipment Join"
   ]
  },
  {
   "cell_type": "code",
   "execution_count": 217,
   "metadata": {},
   "outputs": [],
   "source": [
    "#create a new graph\n",
    "g = Graph()"
   ]
  },
  {
   "cell_type": "code",
   "execution_count": 218,
   "metadata": {},
   "outputs": [
    {
     "name": "stdout",
     "output_type": "stream",
     "text": [
      "Wall time: 408 ms\n"
     ]
    }
   ],
   "source": [
    "%%time \n",
    "#measure execution time\n",
    "\n",
    "#iterate over the supplyChain dataframe\n",
    "for index, row in supplyChain.iterrows():\n",
    "    idPrj = \"project\"+str(index)\n",
    "    idS = \"shipment\"+str(index)\n",
    "    g.add((URIRef(SCO[idPrj]), SCO['hasShipment'], URIRef(SCO[idS])))\n",
    "    \n",
    "g.bind(\"xsd\", XSD)\n",
    "g.bind(\"sco\", SCO)"
   ]
  },
  {
   "cell_type": "code",
   "execution_count": 219,
   "metadata": {},
   "outputs": [
    {
     "name": "stdout",
     "output_type": "stream",
     "text": [
      "--- saving serialization ---\n",
      "Wall time: 755 ms\n"
     ]
    }
   ],
   "source": [
    "%%time\n",
    "# print all the data in the Turtle format\n",
    "print(\"--- saving serialization ---\")\n",
    "with open(savePath + 'proj-ship.ttl', 'w', encoding=\"utf-8\") as file:\n",
    "    file.write(g.serialize(format='turtle'))\n"
   ]
  }
 ],
 "metadata": {
  "kernelspec": {
   "display_name": "Python 3 (ipykernel)",
   "language": "python",
   "name": "python3"
  },
  "language_info": {
   "codemirror_mode": {
    "name": "ipython",
    "version": 3
   },
   "file_extension": ".py",
   "mimetype": "text/x-python",
   "name": "python",
   "nbconvert_exporter": "python",
   "pygments_lexer": "ipython3",
   "version": "3.9.13"
  }
 },
 "nbformat": 4,
 "nbformat_minor": 4
}
